{
 "cells": [
  {
   "cell_type": "code",
   "execution_count": 1,
   "metadata": {},
   "outputs": [],
   "source": [
    "# Note: This code assumes you've already installed anaconda, from anaconda.org\n",
    "# \n",
    "# These three are standard for plotting and loading data\n",
    "import numpy as np\n",
    "import pandas as pd\n",
    "import matplotlib.pyplot as plt\n",
    "\n",
    "# Sci-kit learn is a super useful library! It has a lot so people generally load \n",
    "# needed functions at will\n",
    "from sklearn.model_selection import train_test_split\n",
    "from sklearn.metrics import roc_auc_score, accuracy_score, f1_score\n",
    "from sklearn.linear_model import LogisticRegression\n",
    "from sklearn.preprocessing import normalize, StandardScaler\n",
    "# This is installed separately from Anaconda usually but has gotten way easier\n",
    "# to install; you can now use pipe.  In other words, in a terminal, type:\n",
    "# \n",
    "#    pip install xgboost\n",
    "# \n",
    "# https://xgboost.readthedocs.io/en/latest/build.html\n",
    "import xgboost\n"
   ]
  },
  {
   "cell_type": "markdown",
   "metadata": {},
   "source": [
    "\n",
    "Normally pandas will auto-detect column names if they're included in the file as a header, but because the Pima Indians Diabetes dataset is a little bit older\n",
    "\n",
    "\n",
    "columns = ['Number of times pregnant',\n",
    "           'Plasma glucose concentration a 2 hours in an oral glucose tolerance test',\n",
    "           'Diastolic blood pressure (mm Hg)', \n",
    "           'Triceps skinfold thickness (mm)',\n",
    "           '2-Hour serum insulin (mu U/ml)',\n",
    "           'Body mass index (weight in kg/(height in m)^2)',\n",
    "           'Diabetes pedigree function',\n",
    "           'Age',\n",
    "           'Y']\n"
   ]
  },
  {
   "cell_type": "code",
   "execution_count": 2,
   "metadata": {},
   "outputs": [],
   "source": [
    "# Note: \"df\" is by convention a super common name for a dataframe object\n",
    "\n",
    "columns = ['# times pregnant',\n",
    "           'Plasma glucose concentration',\n",
    "           'Diastolic blood pressure', \n",
    "           'Triceps skinfold thickness',\n",
    "           '2-Hour serum insulin',\n",
    "           'Body mass index',\n",
    "           'Diabetes pedigree function',\n",
    "           'Age',\n",
    "           'Y']\n",
    "df = pd.read_csv('pima-indians-diabetes-data.txt', names=columns)\n",
    "\n"
   ]
  },
  {
   "cell_type": "code",
   "execution_count": 3,
   "metadata": {},
   "outputs": [
    {
     "name": "stdout",
     "output_type": "stream",
     "text": [
      "<class 'pandas.core.frame.DataFrame'>\n",
      "RangeIndex: 768 entries, 0 to 767\n",
      "Data columns (total 9 columns):\n",
      " #   Column                        Non-Null Count  Dtype  \n",
      "---  ------                        --------------  -----  \n",
      " 0   # times pregnant              768 non-null    int64  \n",
      " 1   Plasma glucose concentration  768 non-null    int64  \n",
      " 2   Diastolic blood pressure      768 non-null    int64  \n",
      " 3   Triceps skinfold thickness    768 non-null    int64  \n",
      " 4   2-Hour serum insulin          768 non-null    int64  \n",
      " 5   Body mass index               768 non-null    float64\n",
      " 6   Diabetes pedigree function    768 non-null    float64\n",
      " 7   Age                           768 non-null    int64  \n",
      " 8   Y                             768 non-null    int64  \n",
      "dtypes: float64(2), int64(7)\n",
      "memory usage: 54.1 KB\n"
     ]
    }
   ],
   "source": [
    "df.info()"
   ]
  },
  {
   "cell_type": "code",
   "execution_count": 4,
   "metadata": {},
   "outputs": [
    {
     "data": {
      "text/html": [
       "<div>\n",
       "<style scoped>\n",
       "    .dataframe tbody tr th:only-of-type {\n",
       "        vertical-align: middle;\n",
       "    }\n",
       "\n",
       "    .dataframe tbody tr th {\n",
       "        vertical-align: top;\n",
       "    }\n",
       "\n",
       "    .dataframe thead th {\n",
       "        text-align: right;\n",
       "    }\n",
       "</style>\n",
       "<table border=\"1\" class=\"dataframe\">\n",
       "  <thead>\n",
       "    <tr style=\"text-align: right;\">\n",
       "      <th></th>\n",
       "      <th># times pregnant</th>\n",
       "      <th>Plasma glucose concentration</th>\n",
       "      <th>Diastolic blood pressure</th>\n",
       "      <th>Triceps skinfold thickness</th>\n",
       "      <th>2-Hour serum insulin</th>\n",
       "      <th>Body mass index</th>\n",
       "      <th>Diabetes pedigree function</th>\n",
       "      <th>Age</th>\n",
       "      <th>Y</th>\n",
       "    </tr>\n",
       "  </thead>\n",
       "  <tbody>\n",
       "    <tr>\n",
       "      <th>0</th>\n",
       "      <td>6</td>\n",
       "      <td>148</td>\n",
       "      <td>72</td>\n",
       "      <td>35</td>\n",
       "      <td>0</td>\n",
       "      <td>33.6</td>\n",
       "      <td>0.627</td>\n",
       "      <td>50</td>\n",
       "      <td>1</td>\n",
       "    </tr>\n",
       "    <tr>\n",
       "      <th>1</th>\n",
       "      <td>1</td>\n",
       "      <td>85</td>\n",
       "      <td>66</td>\n",
       "      <td>29</td>\n",
       "      <td>0</td>\n",
       "      <td>26.6</td>\n",
       "      <td>0.351</td>\n",
       "      <td>31</td>\n",
       "      <td>0</td>\n",
       "    </tr>\n",
       "    <tr>\n",
       "      <th>2</th>\n",
       "      <td>8</td>\n",
       "      <td>183</td>\n",
       "      <td>64</td>\n",
       "      <td>0</td>\n",
       "      <td>0</td>\n",
       "      <td>23.3</td>\n",
       "      <td>0.672</td>\n",
       "      <td>32</td>\n",
       "      <td>1</td>\n",
       "    </tr>\n",
       "    <tr>\n",
       "      <th>3</th>\n",
       "      <td>1</td>\n",
       "      <td>89</td>\n",
       "      <td>66</td>\n",
       "      <td>23</td>\n",
       "      <td>94</td>\n",
       "      <td>28.1</td>\n",
       "      <td>0.167</td>\n",
       "      <td>21</td>\n",
       "      <td>0</td>\n",
       "    </tr>\n",
       "    <tr>\n",
       "      <th>4</th>\n",
       "      <td>0</td>\n",
       "      <td>137</td>\n",
       "      <td>40</td>\n",
       "      <td>35</td>\n",
       "      <td>168</td>\n",
       "      <td>43.1</td>\n",
       "      <td>2.288</td>\n",
       "      <td>33</td>\n",
       "      <td>1</td>\n",
       "    </tr>\n",
       "  </tbody>\n",
       "</table>\n",
       "</div>"
      ],
      "text/plain": [
       "   # times pregnant  Plasma glucose concentration  Diastolic blood pressure  \\\n",
       "0                 6                           148                        72   \n",
       "1                 1                            85                        66   \n",
       "2                 8                           183                        64   \n",
       "3                 1                            89                        66   \n",
       "4                 0                           137                        40   \n",
       "\n",
       "   Triceps skinfold thickness  2-Hour serum insulin  Body mass index  \\\n",
       "0                          35                     0             33.6   \n",
       "1                          29                     0             26.6   \n",
       "2                           0                     0             23.3   \n",
       "3                          23                    94             28.1   \n",
       "4                          35                   168             43.1   \n",
       "\n",
       "   Diabetes pedigree function  Age  Y  \n",
       "0                       0.627   50  1  \n",
       "1                       0.351   31  0  \n",
       "2                       0.672   32  1  \n",
       "3                       0.167   21  0  \n",
       "4                       2.288   33  1  "
      ]
     },
     "execution_count": 4,
     "metadata": {},
     "output_type": "execute_result"
    }
   ],
   "source": [
    "df.head()"
   ]
  },
  {
   "cell_type": "code",
   "execution_count": 5,
   "metadata": {},
   "outputs": [],
   "source": [
    "X = df[df.columns.drop('Y')]\n",
    "y = df['Y']"
   ]
  },
  {
   "cell_type": "code",
   "execution_count": 6,
   "metadata": {},
   "outputs": [],
   "source": [
    "# Set this number to set the random state\n",
    "random_state = 1\n"
   ]
  },
  {
   "cell_type": "code",
   "execution_count": 7,
   "metadata": {},
   "outputs": [],
   "source": [
    "X_train, X_test, y_train, y_test = train_test_split(X,y, test_size =0.2, random_state=random_state)"
   ]
  },
  {
   "cell_type": "markdown",
   "metadata": {},
   "source": [
    "# Logistic Regression\n",
    "\n",
    "Don't overlook it in the rush to do Random Forest/Gradient Boosting Trees\n",
    "\n",
    "https://scikit-learn.org/stable/modules/generated/sklearn.linear_model.LogisticRegression.html\n",
    "\n",
    "For regression tasks look at Linear Regression"
   ]
  },
  {
   "cell_type": "code",
   "execution_count": 9,
   "metadata": {},
   "outputs": [
    {
     "data": {
      "text/plain": [
       "(0.7792207792207793, 0.6458333333333333, 0.8416896235078053)"
      ]
     },
     "execution_count": 9,
     "metadata": {},
     "output_type": "execute_result"
    }
   ],
   "source": [
    "log_model = LogisticRegression(max_iter = 1000)\n",
    "\n",
    "log_model.fit(X_train, y_train)\n",
    "\n",
    "y_pred_log = log_model.predict(X_test)\n",
    "y_prob_log = log_model.predict_proba(X_test)\n",
    "\n",
    "\n",
    "accuracy = accuracy_score(y_test, y_pred_log)\n",
    "f1 = f1_score(y_test, y_pred_log)\n",
    "roc_auc = roc_auc_score(y_test, y_prob_log[:,1])\n",
    "\n",
    "(accuracy, f1, roc_auc)"
   ]
  },
  {
   "cell_type": "markdown",
   "metadata": {},
   "source": [
    "# XGBoost\n",
    "\n",
    "a.k.a. \"X-treme Gradient Boosting\""
   ]
  },
  {
   "cell_type": "code",
   "execution_count": 11,
   "metadata": {},
   "outputs": [],
   "source": [
    "# If you look inside the xgboost model, there are a ton of \"hyperparameters\" to set which \n",
    "# will affect the performance of the model. \n",
    "\n",
    "\n",
    "\n",
    "xgb_model = xgboost.XGBClassifier(n_estimators=100)"
   ]
  },
  {
   "cell_type": "code",
   "execution_count": 12,
   "metadata": {},
   "outputs": [
    {
     "data": {
      "text/plain": [
       "(0.7987012987012987, 0.7102803738317757, 0.8642791551882462)"
      ]
     },
     "execution_count": 12,
     "metadata": {},
     "output_type": "execute_result"
    }
   ],
   "source": [
    "xgb_model.fit(X_train, y_train)\n",
    "\n",
    "y_pred = xgb_model.predict(X_test)\n",
    "y_prob =  xgb_model.predict_proba(X_test)\n",
    "\n",
    "\n",
    "accuracy = accuracy_score(y_test, y_pred)\n",
    "f1 = f1_score(y_test, y_pred)\n",
    "roc_auc = roc_auc_score(y_test, y_prob[:,1])\n",
    "\n",
    "(accuracy, f1, roc_auc)"
   ]
  },
  {
   "cell_type": "code",
   "execution_count": null,
   "metadata": {},
   "outputs": [],
   "source": []
  }
 ],
 "metadata": {
  "kernelspec": {
   "display_name": "Python 2",
   "language": "python",
   "name": "python2"
  },
  "language_info": {
   "codemirror_mode": {
    "name": "ipython",
    "version": 3
   },
   "file_extension": ".py",
   "mimetype": "text/x-python",
   "name": "python",
   "nbconvert_exporter": "python",
   "pygments_lexer": "ipython3",
   "version": "3.6.6"
  }
 },
 "nbformat": 4,
 "nbformat_minor": 4
}
